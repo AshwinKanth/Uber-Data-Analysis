{
  "nbformat": 4,
  "nbformat_minor": 0,
  "metadata": {
    "colab": {
      "private_outputs": true,
      "provenance": [],
      "collapsed_sections": [
        "w6K7xa23Elo4",
        "yQaldy8SH6Dl",
        "mDgbUHAGgjLW",
        "x71ZqKXriCWQ",
        "7hBIi_osiCS2",
        "H0kj-8xxnORC",
        "PBTbrJXOngz2",
        "t6dVpIINYklI",
        "ijmpgYnKYklI",
        "-JiQyfWJYklI",
        "fge-S5ZAYoAp",
        "85gYPyotYoAp",
        "RoGjAbkUYoAp",
        "iky9q4vBYrdO",
        "F6T5p64dYrdO",
        "y-Ehk30pYrdP",
        "QHF8YVU7Yuh3",
        "GwzvFGzlYuh3",
        "qYpmQ266Yuh3",
        "bbFf2-_FphqN",
        "t27r6nlMphqO"
      ]
    },
    "kernelspec": {
      "name": "python3",
      "display_name": "Python 3"
    },
    "language_info": {
      "name": "python"
    }
  },
  "cells": [
    {
      "cell_type": "markdown",
      "source": [
        "# **Project Name**    - Uber Supply Demand and Gap Analysis\n",
        "\n"
      ],
      "metadata": {
        "id": "vncDsAP0Gaoa"
      }
    },
    {
      "cell_type": "markdown",
      "source": [
        "##### **Project Type**    - EDA\n",
        "##### **Contribution**    - Individual\n",
        "##### **Team Member 1 -** Ashwin kanth Marapally"
      ],
      "metadata": {
        "id": "beRrZCGUAJYm"
      }
    },
    {
      "cell_type": "markdown",
      "source": [
        "# **Project Summary -**"
      ],
      "metadata": {
        "id": "FJNUwmbgGyua"
      }
    },
    {
      "cell_type": "markdown",
      "source": [
        "This project uses Python to perform exploratory data analysis (EDA) on a cleaned Uber ride request dataset. The dataset includes detailed information such as request timestamps, pickup points, ride statuses, and derived fields like request hour, daypart, and gap type. Our analysis focuses on identifying demand surges, supply shortfalls, and uncovering trends that can lead to better decision-making for operational improvements."
      ],
      "metadata": {
        "id": "F6v_1wHtG2nS"
      }
    },
    {
      "cell_type": "markdown",
      "source": [
        "# **GitHub Link -**"
      ],
      "metadata": {
        "id": "w6K7xa23Elo4"
      }
    },
    {
      "cell_type": "markdown",
      "source": [
        "Provide your GitHub Link here."
      ],
      "metadata": {
        "id": "h1o69JH3Eqqn"
      }
    },
    {
      "cell_type": "markdown",
      "source": [
        "# **Problem Statement**\n"
      ],
      "metadata": {
        "id": "yQaldy8SH6Dl"
      }
    },
    {
      "cell_type": "markdown",
      "source": [
        "Uber faced a significant mismatch between rider demand and driver supply, especially during peak hours and at high-traffic pickup points like airports. This resulted in high cancellation rates and unfulfilled ride requests, leading to revenue loss and customer dissatisfaction.\n",
        "\n",
        "The objective of this project is to analyze the Uber request data using Python and identify patterns that contribute to this supply-demand gap. The ultimate goal is to derive actionable insights that can help Uber optimize driver allocation, reduce cancellations, and better meet user demand."
      ],
      "metadata": {
        "id": "DpeJGUA3kjGy"
      }
    },
    {
      "cell_type": "markdown",
      "source": [
        "# **General Guidelines** : -  "
      ],
      "metadata": {
        "id": "mDgbUHAGgjLW"
      }
    },
    {
      "cell_type": "markdown",
      "source": [
        "1.   Well-structured, formatted, and commented code is required.\n",
        "2.   Exception Handling, Production Grade Code & Deployment Ready Code will be a plus. Those students will be awarded some additional credits.\n",
        "     \n",
        "     The additional credits will have advantages over other students during Star Student selection.\n",
        "       \n",
        "             [ Note: - Deployment Ready Code is defined as, the whole .ipynb notebook should be executable in one go\n",
        "                       without a single error logged. ]\n",
        "\n",
        "3.   Each and every logic should have proper comments.\n",
        "4. You may add as many number of charts you want. Make Sure for each and every chart the following format should be answered.\n",
        "        \n",
        "\n",
        "```\n",
        "# Chart visualization code\n",
        "```\n",
        "            \n",
        "\n",
        "*   Why did you pick the specific chart?\n",
        "*   What is/are the insight(s) found from the chart?\n",
        "* Will the gained insights help creating a positive business impact?\n",
        "Are there any insights that lead to negative growth? Justify with specific reason.\n",
        "\n",
        "5. You have to create at least 20 logical & meaningful charts having important insights.\n",
        "\n",
        "\n",
        "[ Hints : - Do the Vizualization in  a structured way while following \"UBM\" Rule.\n",
        "\n",
        "U - Univariate Analysis,\n",
        "\n",
        "B - Bivariate Analysis (Numerical - Categorical, Numerical - Numerical, Categorical - Categorical)\n",
        "\n",
        "M - Multivariate Analysis\n",
        " ]\n",
        "\n",
        "\n",
        "\n"
      ],
      "metadata": {
        "id": "ZrxVaUj-hHfC"
      }
    },
    {
      "cell_type": "markdown",
      "source": [
        "# ***Let's Begin !***"
      ],
      "metadata": {
        "id": "O_i_v8NEhb9l"
      }
    },
    {
      "cell_type": "markdown",
      "source": [
        "## ***1. Know Your Data***"
      ],
      "metadata": {
        "id": "HhfV-JJviCcP"
      }
    },
    {
      "cell_type": "markdown",
      "source": [
        "### Import Libraries"
      ],
      "metadata": {
        "id": "Y3lxredqlCYt"
      }
    },
    {
      "cell_type": "code",
      "source": [
        "# Import Libraries\n",
        "\n",
        "import pandas as pd\n",
        "import numpy as np\n",
        "import matplotlib.pyplot as plt\n",
        "import seaborn as sns\n",
        "from google.colab import files"
      ],
      "metadata": {
        "id": "M8Vqi-pPk-HR"
      },
      "execution_count": null,
      "outputs": []
    },
    {
      "cell_type": "markdown",
      "source": [
        "### Dataset Loading"
      ],
      "metadata": {
        "id": "3RnN4peoiCZX"
      }
    },
    {
      "cell_type": "code",
      "source": [
        "# Load Dataset\n",
        "\n",
        "uber_request_dataset = pd.read_csv('/content/Uber Request Data.csv')"
      ],
      "metadata": {
        "id": "4CkvbW_SlZ_R"
      },
      "execution_count": null,
      "outputs": []
    },
    {
      "cell_type": "markdown",
      "source": [
        "### Dataset First View"
      ],
      "metadata": {
        "id": "x71ZqKXriCWQ"
      }
    },
    {
      "cell_type": "code",
      "source": [
        "# Dataset First Look\n",
        "\n",
        "uber_request_dataset.head()"
      ],
      "metadata": {
        "id": "LWNFOSvLl09H"
      },
      "execution_count": null,
      "outputs": []
    },
    {
      "cell_type": "markdown",
      "source": [
        "### Dataset Rows & Columns count"
      ],
      "metadata": {
        "id": "7hBIi_osiCS2"
      }
    },
    {
      "cell_type": "code",
      "source": [
        "# Dataset Rows & Columns count\n",
        "\n",
        "print(\"Rows: \", uber_request_dataset.shape[0])\n",
        "print(\"Columns: \", uber_request_dataset.shape[1])"
      ],
      "metadata": {
        "id": "Kllu7SJgmLij"
      },
      "execution_count": null,
      "outputs": []
    },
    {
      "cell_type": "markdown",
      "source": [
        "### Dataset Information"
      ],
      "metadata": {
        "id": "JlHwYmJAmNHm"
      }
    },
    {
      "cell_type": "code",
      "source": [
        "# Dataset Info\n",
        "uber_request_dataset.info()"
      ],
      "metadata": {
        "id": "e9hRXRi6meOf"
      },
      "execution_count": null,
      "outputs": []
    },
    {
      "cell_type": "markdown",
      "source": [
        "#### Duplicate Values"
      ],
      "metadata": {
        "id": "35m5QtbWiB9F"
      }
    },
    {
      "cell_type": "code",
      "source": [
        "# Dataset Duplicate Value Count\n",
        "uber_request_dataset.duplicated().sum()"
      ],
      "metadata": {
        "id": "1sLdpKYkmox0"
      },
      "execution_count": null,
      "outputs": []
    },
    {
      "cell_type": "markdown",
      "source": [
        "#### Missing Values/Null Values"
      ],
      "metadata": {
        "id": "PoPl-ycgm1ru"
      }
    },
    {
      "cell_type": "code",
      "source": [
        "# Missing Values/Null Values Count\n",
        "\n",
        "missing_values = pd.DataFrame({\n",
        "    \"Missing values\": uber_request_dataset.isnull().sum(),\n",
        "    \"Missing percentage (%)\": uber_request_dataset.isnull().mean()*100\n",
        "}).sort_values(by=\"Missing values\", ascending=False)\n",
        "\n",
        "print(missing_values)\n"
      ],
      "metadata": {
        "id": "GgHWkxvamxVg"
      },
      "execution_count": null,
      "outputs": []
    },
    {
      "cell_type": "code",
      "source": [
        "# Visualizing the missing values\n",
        "\n",
        "plt.figure(figsize=(10, 6))\n",
        "sns.heatmap(uber_request_dataset.isnull(), cbar=False, cmap='viridis')\n",
        "plt.title('Missing Values Heatmap')\n",
        "plt.show()"
      ],
      "metadata": {
        "id": "3q5wnI3om9sJ"
      },
      "execution_count": null,
      "outputs": []
    },
    {
      "cell_type": "markdown",
      "source": [
        "### What did you know about your dataset?"
      ],
      "metadata": {
        "id": "H0kj-8xxnORC"
      }
    },
    {
      "cell_type": "markdown",
      "source": [
        "* The dataset contains Uber ride request records, including key details such as timestamps, pickup locations, driver IDs, and trip statuses.\n",
        "\n",
        "* The dataset consists of 6745 ride requests.\n",
        "\n",
        "**Missing Values:**\n",
        "\n",
        "* Driver id: Missing in ~39% of records, typically for unassigned trips\n",
        "\n",
        "* Drop timestamp: Missing in ~58% of rows, often for trips that were not completed\n",
        "\n",
        "* These missing values were retained to reflect real operational gaps\n",
        "\n",
        "**Date/Time Format:**\n",
        "\n",
        "Mixed timestamp formats were cleaned and standardized to enable time-based analysis. Request hour and Daypart were extracted for better time segmentation."
      ],
      "metadata": {
        "id": "gfoNAAC-nUe_"
      }
    },
    {
      "cell_type": "markdown",
      "source": [
        "## ***2. Understanding Your Variables***"
      ],
      "metadata": {
        "id": "nA9Y7ga8ng1Z"
      }
    },
    {
      "cell_type": "code",
      "source": [
        "# Dataset Columns\n",
        "\n",
        "uber_request_dataset.columns.tolist()"
      ],
      "metadata": {
        "id": "j7xfkqrt5Ag5"
      },
      "execution_count": null,
      "outputs": []
    },
    {
      "cell_type": "code",
      "source": [
        "# Dataset Describe\n",
        "\n",
        "uber_request_dataset.describe()"
      ],
      "metadata": {
        "id": "DnOaZdaE5Q5t"
      },
      "execution_count": null,
      "outputs": []
    },
    {
      "cell_type": "markdown",
      "source": [
        "### Variables Description"
      ],
      "metadata": {
        "id": "PBTbrJXOngz2"
      }
    },
    {
      "cell_type": "markdown",
      "source": [
        "**Request id:** Unique identifier for each ride\n",
        "\n",
        "**Pickup point:** Indicates pickup location - either City or Airport\n",
        "\n",
        "**Driver id:** ID assigned when a driver is allotted\n",
        "\n",
        "**Status:** Ride outcome — Trip Completed, Cancelled, or No Cars Available\n",
        "\n",
        "**Request timestamp & Drop timestamp:** Times of request and trip completion"
      ],
      "metadata": {
        "id": "aJV4KIxSnxay"
      }
    },
    {
      "cell_type": "markdown",
      "source": [
        "### Check Unique Values for each variable."
      ],
      "metadata": {
        "id": "u3PMJOP6ngxN"
      }
    },
    {
      "cell_type": "code",
      "source": [
        "# Check Unique Values for each variable.\n",
        "\n",
        "uber_request_dataset.nunique()"
      ],
      "metadata": {
        "id": "zms12Yq5n-jE"
      },
      "execution_count": null,
      "outputs": []
    },
    {
      "cell_type": "markdown",
      "source": [
        "## 3. ***Data Wrangling***"
      ],
      "metadata": {
        "id": "dauF4eBmngu3"
      }
    },
    {
      "cell_type": "markdown",
      "source": [
        "### Data Wrangling Code"
      ],
      "metadata": {
        "id": "bKJF3rekwFvQ"
      }
    },
    {
      "cell_type": "code",
      "source": [
        "# Create copy of the dataset\n",
        "\n",
        "uber_request_dataset_copy = uber_request_dataset.copy()"
      ],
      "metadata": {
        "id": "wk-9a2fpoLcV"
      },
      "execution_count": null,
      "outputs": []
    },
    {
      "cell_type": "code",
      "source": [
        "# Data type conversion\n",
        "\n",
        "# Step 1: First conversion attempt\n",
        "rt1 = pd.to_datetime(uber_request_dataset_copy['Request timestamp'], dayfirst=True, errors='coerce')\n",
        "dt1 = pd.to_datetime(uber_request_dataset_copy['Drop timestamp'], dayfirst=True, errors='coerce')\n",
        "\n",
        "# Step 2: Find the rows where conversion failed (NaT)\n",
        "failed_rt = uber_request_dataset_copy['Request timestamp'][rt1.isna()]\n",
        "failed_dt = uber_request_dataset_copy['Drop timestamp'][dt1.isna()]\n",
        "\n",
        "# Step 3: Retry failed rows with alternate format (dash instead of slash)\n",
        "# Note: We assume these rows may be in another format like '%d-%m-%Y %H:%M:%S'\n",
        "rt2 = pd.to_datetime(failed_rt, format='%d-%m-%Y %H:%M:%S', errors='coerce')\n",
        "dt2 = pd.to_datetime(failed_dt, format='%d-%m-%Y %H:%M:%S', errors='coerce')\n",
        "\n",
        "# Step 4: Fill in missing values from second attempt\n",
        "rt1[rt1.isna()] = rt2\n",
        "dt1[dt1.isna()] = dt2\n",
        "\n",
        "# Step 5: Assign back to DataFrame\n",
        "uber_request_dataset_copy['Request timestamp'] = rt1\n",
        "uber_request_dataset_copy['Drop timestamp'] = dt1"
      ],
      "metadata": {
        "id": "79AyGR3BVrSu"
      },
      "execution_count": null,
      "outputs": []
    },
    {
      "cell_type": "code",
      "source": [
        "# Adding new columns \"Request hour\" and \"Daypart\"\n",
        "\n",
        "uber_request_dataset_copy[\"Request hour\"] = uber_request_dataset_copy['Request timestamp'].dt.hour\n",
        "\n",
        "uber_request_dataset_copy[\"Daypart\"] = pd.cut(uber_request_dataset_copy['Request hour'], bins = [-1, 4, 8, 12, 16, 20, 23], labels = ['Late Night', 'Early Morning', 'Morning', 'Afternoon', 'Evening', 'Night'])\n"
      ],
      "metadata": {
        "id": "7fdY6XdWaS1m"
      },
      "execution_count": null,
      "outputs": []
    },
    {
      "cell_type": "code",
      "source": [
        "# Classification of gap types based on trip status\n",
        "\n",
        "def classifg_gap(status):\n",
        "  if status == \"Cancelled\":\n",
        "    return \"Cancellation\"\n",
        "  elif status == \"No Cars Available\":\n",
        "    return \"No Availability\"\n",
        "  elif status == \"Trip Completed\":\n",
        "    return \"No Gap\"\n",
        "  else:\n",
        "    return \"Unknown\"\n",
        "\n",
        "uber_request_dataset_copy['Gap Type'] = uber_request_dataset_copy['Status'].apply(classifg_gap)"
      ],
      "metadata": {
        "id": "GA9frL1taVjm"
      },
      "execution_count": null,
      "outputs": []
    },
    {
      "cell_type": "code",
      "source": [
        "# cross checking final dataset\n",
        "\n",
        "uber_request_dataset_copy.head()"
      ],
      "metadata": {
        "id": "0t1mX9sob5zA"
      },
      "execution_count": null,
      "outputs": []
    },
    {
      "cell_type": "code",
      "source": [
        "# Saving cleaned dataset for furthur analysis\n",
        "\n",
        "uber_request_dataset_copy.to_excel(\"Uber_Valid_Cleaned.xlsx\", index=False)\n",
        "uber_request_dataset_copy.to_csv(\"Uber_Valid_Cleaned.csv\", index=False)\n",
        "\n",
        "\n",
        "files.download(\"Uber_Valid_Cleaned.xlsx\")\n",
        "files.download(\"Uber_Valid_Cleaned.csv\")"
      ],
      "metadata": {
        "id": "6iD9PQNMelCn"
      },
      "execution_count": null,
      "outputs": []
    },
    {
      "cell_type": "markdown",
      "source": [
        "## ***4. Data Vizualization, Storytelling & Experimenting with charts : Understand the relationships between variables***"
      ],
      "metadata": {
        "id": "GF8Ens_Soomf"
      }
    },
    {
      "cell_type": "markdown",
      "source": [
        "#### Chart - 1"
      ],
      "metadata": {
        "id": "0wOQAZs5pc--"
      }
    },
    {
      "cell_type": "code",
      "source": [
        "# Chart - 1 Status Distribution\n",
        "\n",
        "sns.countplot(data=uber_request_dataset_copy,  x='Status',hue=\"Status\", palette='pastel', legend=False)\n",
        "plt.title('Status Distribution')\n",
        "plt.xlabel('Status')\n",
        "plt.ylabel('Count')\n",
        "plt.show()\n"
      ],
      "metadata": {
        "id": "7v_ESjsspbW7"
      },
      "execution_count": null,
      "outputs": []
    },
    {
      "cell_type": "markdown",
      "source": [
        "##### 1. Why did you pick the specific chart?"
      ],
      "metadata": {
        "id": "K5QZ13OEpz2H"
      }
    },
    {
      "cell_type": "markdown",
      "source": [
        "A countplot is ideal for visualizing the frequency of each category in a column like Status.\n"
      ],
      "metadata": {
        "id": "XESiWehPqBRc"
      }
    },
    {
      "cell_type": "markdown",
      "source": [
        "##### 2. What is/are the insight(s) found from the chart?"
      ],
      "metadata": {
        "id": "lQ7QKXXCp7Bj"
      }
    },
    {
      "cell_type": "markdown",
      "source": [
        "**Insight:** Only 42% of requests are completed. The rest fail due to No Cars Available or Cancellations."
      ],
      "metadata": {
        "id": "C_j1G7yiqdRP"
      }
    },
    {
      "cell_type": "markdown",
      "source": [
        "##### 3. Will the gained insights help creating a positive business impact?\n",
        "Are there any insights that lead to negative growth? Justify with specific reason."
      ],
      "metadata": {
        "id": "448CDAPjqfQr"
      }
    },
    {
      "cell_type": "markdown",
      "source": [
        "**Impact:** Highlights a major supply gap. Improve driver availability and reduce cancellations with incentive models."
      ],
      "metadata": {
        "id": "3cspy4FjqxJW"
      }
    },
    {
      "cell_type": "markdown",
      "source": [
        "#### Chart - 2"
      ],
      "metadata": {
        "id": "KSlN3yHqYklG"
      }
    },
    {
      "cell_type": "code",
      "source": [
        "# Chart - 2 Requests by Pickup Point\n",
        "\n",
        "sns.countplot(data=uber_request_dataset_copy, x=\"Pickup point\",hue=\"Status\", palette=\"Set2\", legend=False)\n",
        "plt.title('Trip Status by Pickup Point')\n",
        "plt.xlabel(\"Pickup Point\")\n",
        "plt.ylabel(\"Count\")\n",
        "plt.show()\n"
      ],
      "metadata": {
        "id": "R4YgtaqtYklH"
      },
      "execution_count": null,
      "outputs": []
    },
    {
      "cell_type": "markdown",
      "source": [
        "##### 1. Why did you pick the specific chart?"
      ],
      "metadata": {
        "id": "t6dVpIINYklI"
      }
    },
    {
      "cell_type": "markdown",
      "source": [
        "A grouped bar chart (via hue) allows comparison of statuses across each pickup point."
      ],
      "metadata": {
        "id": "5aaW0BYyYklI"
      }
    },
    {
      "cell_type": "markdown",
      "source": [
        "##### 2. What is/are the insight(s) found from the chart?"
      ],
      "metadata": {
        "id": "ijmpgYnKYklI"
      }
    },
    {
      "cell_type": "markdown",
      "source": [
        "**Insight:**  Airport has higher cancellations and no car availability compared to City."
      ],
      "metadata": {
        "id": "PSx9atu2YklI"
      }
    },
    {
      "cell_type": "markdown",
      "source": [
        "##### 3. Will the gained insights help creating a positive business impact?\n",
        "Are there any insights that lead to negative growth? Justify with specific reason."
      ],
      "metadata": {
        "id": "-JiQyfWJYklI"
      }
    },
    {
      "cell_type": "markdown",
      "source": [
        "**Impact:** Airport needs targeted driver allocation. Increase driver shifts near Airport during peak times."
      ],
      "metadata": {
        "id": "BcBbebzrYklV"
      }
    },
    {
      "cell_type": "markdown",
      "source": [
        "#### Chart - 3"
      ],
      "metadata": {
        "id": "EM7whBJCYoAo"
      }
    },
    {
      "cell_type": "code",
      "source": [
        "# Chart - 3 Requests per Hour\n",
        "\n",
        "plt.figure(figsize=(10, 6))\n",
        "sns.countplot(data=uber_request_dataset_copy, x=\"Request hour\", color=\"skyblue\")\n",
        "plt.title('Requests per Hour of Day')\n",
        "plt.xlabel(\"Request Hour\")\n",
        "plt.ylabel(\"Count\")\n",
        "plt.show()\n"
      ],
      "metadata": {
        "id": "t6GMdE67YoAp"
      },
      "execution_count": null,
      "outputs": []
    },
    {
      "cell_type": "markdown",
      "source": [
        "##### 1. Why did you pick the specific chart?"
      ],
      "metadata": {
        "id": "fge-S5ZAYoAp"
      }
    },
    {
      "cell_type": "markdown",
      "source": [
        "Shows demand fluctuations by hour - great for spotting rush hours."
      ],
      "metadata": {
        "id": "5dBItgRVYoAp"
      }
    },
    {
      "cell_type": "markdown",
      "source": [
        "##### 2. What is/are the insight(s) found from the chart?"
      ],
      "metadata": {
        "id": "85gYPyotYoAp"
      }
    },
    {
      "cell_type": "markdown",
      "source": [
        "**Insight:** Requests peak between 7–10 AM and 5–9 PM."
      ],
      "metadata": {
        "id": "4jstXR6OYoAp"
      }
    },
    {
      "cell_type": "markdown",
      "source": [
        "##### 3. Will the gained insights help creating a positive business impact?\n",
        "Are there any insights that lead to negative growth? Justify with specific reason."
      ],
      "metadata": {
        "id": "RoGjAbkUYoAp"
      }
    },
    {
      "cell_type": "markdown",
      "source": [
        "**Impact:** These are rush hours; failing to serve them reduces profit and loyalty. Prioritize driver coverage during these windows."
      ],
      "metadata": {
        "id": "zfJ8IqMcYoAp"
      }
    },
    {
      "cell_type": "markdown",
      "source": [
        "#### Chart - 4"
      ],
      "metadata": {
        "id": "4Of9eVA-YrdM"
      }
    },
    {
      "cell_type": "code",
      "source": [
        "# Chart - 4 Gap Type by Daypart\n",
        "\n",
        "plt.figure(figsize=(10, 6))\n",
        "sns.countplot(data=uber_request_dataset_copy, x=\"Daypart\", hue=\"Gap Type\", palette='Accent')\n",
        "plt.title('Gap Type by Daypart')\n",
        "plt.xlabel(\"Daypart\")\n",
        "plt.ylabel(\"Count\")\n",
        "plt.show()"
      ],
      "metadata": {
        "id": "irlUoxc8YrdO"
      },
      "execution_count": null,
      "outputs": []
    },
    {
      "cell_type": "markdown",
      "source": [
        "##### 1. Why did you pick the specific chart?"
      ],
      "metadata": {
        "id": "iky9q4vBYrdO"
      }
    },
    {
      "cell_type": "markdown",
      "source": [
        "Stacked bar helps compare gap reasons across time of day."
      ],
      "metadata": {
        "id": "aJRCwT6DYrdO"
      }
    },
    {
      "cell_type": "markdown",
      "source": [
        "##### 2. What is/are the insight(s) found from the chart?"
      ],
      "metadata": {
        "id": "F6T5p64dYrdO"
      }
    },
    {
      "cell_type": "markdown",
      "source": [
        "**Insight**: No Cars Available dominates during Evening, while Cancellations are high in Early Morning."
      ],
      "metadata": {
        "id": "Xx8WAJvtYrdO"
      }
    },
    {
      "cell_type": "markdown",
      "source": [
        "##### 3. Will the gained insights help creating a positive business impact?\n",
        "Are there any insights that lead to negative growth? Justify with specific reason."
      ],
      "metadata": {
        "id": "y-Ehk30pYrdP"
      }
    },
    {
      "cell_type": "markdown",
      "source": [
        "**Impact**: Tailored actions can reduce specific gaps per time block. Offer driver incentives in evenings and improve app experience."
      ],
      "metadata": {
        "id": "jLNxxz7MYrdP"
      }
    },
    {
      "cell_type": "markdown",
      "source": [
        "#### Chart - 5"
      ],
      "metadata": {
        "id": "bamQiAODYuh1"
      }
    },
    {
      "cell_type": "code",
      "source": [
        "# Chart - 5 Trip Completion Rate by Pickup Point\n",
        "\n",
        "plt.figure(figsize=(10, 6))\n",
        "completion_data = uber_request_dataset_copy[uber_request_dataset_copy['Status'] == 'Trip Completed']['Pickup point'].value_counts()\n",
        "completion_data.plot.pie(autopct='%1.1f%%', startangle=90, colors=['lightgreen', 'pink'])\n",
        "plt.title('Trip Completion by Pickup Point')\n",
        "plt.show()"
      ],
      "metadata": {
        "id": "TIJwrbroYuh3"
      },
      "execution_count": null,
      "outputs": []
    },
    {
      "cell_type": "markdown",
      "source": [
        "##### 1. Why did you pick the specific chart?"
      ],
      "metadata": {
        "id": "QHF8YVU7Yuh3"
      }
    },
    {
      "cell_type": "markdown",
      "source": [
        "Pie charts are best for comparing proportional contributions to a whole."
      ],
      "metadata": {
        "id": "dcxuIMRPYuh3"
      }
    },
    {
      "cell_type": "markdown",
      "source": [
        "##### 2. What is/are the insight(s) found from the chart?"
      ],
      "metadata": {
        "id": "GwzvFGzlYuh3"
      }
    },
    {
      "cell_type": "markdown",
      "source": [
        "**Insight:** City accounts for more than 50% of completed trips."
      ],
      "metadata": {
        "id": "uyqkiB8YYuh3"
      }
    },
    {
      "cell_type": "markdown",
      "source": [
        "##### 3. Will the gained insights help creating a positive business impact?\n",
        "Are there any insights that lead to negative growth? Justify with specific reason."
      ],
      "metadata": {
        "id": "qYpmQ266Yuh3"
      }
    },
    {
      "cell_type": "markdown",
      "source": [
        "**Impact:** Airport zone is underperforming.Evaluate Airport-specific issues like waiting time or miscommunication."
      ],
      "metadata": {
        "id": "_WtzZ_hCYuh4"
      }
    },
    {
      "cell_type": "markdown",
      "source": [
        "#### Chart - 6"
      ],
      "metadata": {
        "id": "OH-pJp9IphqM"
      }
    },
    {
      "cell_type": "code",
      "source": [
        "# Chart - 6 Request Hour vs Pickup Point\n",
        "\n",
        "plt.figure(figsize=(10, 6))\n",
        "heatmap_data = pd.crosstab(uber_request_dataset_copy['Request hour'], uber_request_dataset_copy['Pickup point'])\n",
        "sns.heatmap(heatmap_data, annot=True, fmt='d', cmap='Blues')\n",
        "plt.title('Requests by Hour and Pickup Point')\n",
        "plt.xlabel('Pickup Point')\n",
        "plt.ylabel('Request Hour')\n",
        "plt.show()\n"
      ],
      "metadata": {
        "id": "kuRf4wtuphqN"
      },
      "execution_count": null,
      "outputs": []
    },
    {
      "cell_type": "markdown",
      "source": [
        "##### 1. Why did you pick the specific chart?"
      ],
      "metadata": {
        "id": "bbFf2-_FphqN"
      }
    },
    {
      "cell_type": "markdown",
      "source": [
        "Heatmaps are excellent for identifying patterns in 2D categorical relationships."
      ],
      "metadata": {
        "id": "loh7H2nzphqN"
      }
    },
    {
      "cell_type": "markdown",
      "source": [
        "##### 2. What is/are the insight(s) found from the chart?"
      ],
      "metadata": {
        "id": "_ouA3fa0phqN"
      }
    },
    {
      "cell_type": "markdown",
      "source": [
        "**Insight:** High demand overlaps at Airport (7–9 AM, 5–9 PM) but supply isn’t scaling."
      ],
      "metadata": {
        "id": "VECbqPI7phqN"
      }
    },
    {
      "cell_type": "markdown",
      "source": [
        "##### 3. Will the gained insights help creating a positive business impact?\n",
        "Are there any insights that lead to negative growth? Justify with specific reason."
      ],
      "metadata": {
        "id": "Seke61FWphqN"
      }
    },
    {
      "cell_type": "markdown",
      "source": [
        "**Impact:** Peak-hour mismatch affects revenue and trust.Both time and location must guide real-time driver placement."
      ],
      "metadata": {
        "id": "DW4_bGpfphqN"
      }
    },
    {
      "cell_type": "markdown",
      "source": [
        "#### Chart - 7"
      ],
      "metadata": {
        "id": "PIIx-8_IphqN"
      }
    },
    {
      "cell_type": "code",
      "source": [
        "# Chart - 7 Cancelled Trips by Hour line chart\n",
        "\n",
        "plt.figure(figsize=(10, 6))\n",
        "cancelled_data = uber_request_dataset_copy[uber_request_dataset_copy['Status'] == 'Cancelled']\n",
        "cancelled_data['Request hour'].value_counts().sort_index().plot(kind='line', marker='o')\n",
        "plt.title('Cancelled Trips by Hour')\n",
        "plt.xlabel('Request Hour')\n",
        "plt.ylabel('Count')\n",
        "plt.show()\n"
      ],
      "metadata": {
        "id": "lqAIGUfyphqO"
      },
      "execution_count": null,
      "outputs": []
    },
    {
      "cell_type": "markdown",
      "source": [
        "##### 1. Why did you pick the specific chart?"
      ],
      "metadata": {
        "id": "t27r6nlMphqO"
      }
    },
    {
      "cell_type": "markdown",
      "source": [
        "Line charts help show trends over time."
      ],
      "metadata": {
        "id": "iv6ro40sphqO"
      }
    },
    {
      "cell_type": "markdown",
      "source": [
        "##### 2. What is/are the insight(s) found from the chart?"
      ],
      "metadata": {
        "id": "r2jJGEOYphqO"
      }
    },
    {
      "cell_type": "markdown",
      "source": [
        "**Insight:** Cancellation peaks in early morning and late evening."
      ],
      "metadata": {
        "id": "Po6ZPi4hphqO"
      }
    },
    {
      "cell_type": "markdown",
      "source": [
        "##### 3. Will the gained insights help creating a positive business impact?\n",
        "Are there any insights that lead to negative growth? Justify with specific reason."
      ],
      "metadata": {
        "id": "b0JNsNcRphqO"
      }
    },
    {
      "cell_type": "markdown",
      "source": [
        "**Impact:** These hours represent lost demand.Remind drivers and verify bookings before these windows."
      ],
      "metadata": {
        "id": "xvSq8iUTphqO"
      }
    },
    {
      "cell_type": "markdown",
      "source": [
        "## **5. Solution to Business Objective**"
      ],
      "metadata": {
        "id": "JcMwzZxoAimU"
      }
    },
    {
      "cell_type": "markdown",
      "source": [
        "#### What do you suggest the client to achieve Business Objective ?\n",
        "Explain Briefly."
      ],
      "metadata": {
        "id": "8G2x9gOozGDZ"
      }
    },
    {
      "cell_type": "markdown",
      "source": [
        "* Offering time-based incentives to drivers for better coverage during critical periods.\n",
        "\n",
        "* Proactively allocating more drivers to high-demand zones like the airport\n",
        "\n",
        "* Smart driver reallocation systems should predict high-demand periods based on request hour and pickup point.\n",
        "\n",
        "* In-app nudges for ride confirmations can reduce cancellations in the morning.\n",
        "\n",
        "* Real-time supply heatmaps can guide available drivers toward underserved zones during peak hours."
      ],
      "metadata": {
        "id": "pASKb0qOza21"
      }
    },
    {
      "cell_type": "markdown",
      "source": [
        "# **Conclusion**"
      ],
      "metadata": {
        "id": "gCX9965dhzqZ"
      }
    },
    {
      "cell_type": "markdown",
      "source": [
        "The Python-based exploratory data analysis of Uber's ride request data has revealed critical insights into the supply-demand dynamics during the observed period. By visualizing patterns across trip statuses, request times, pickup points, and gap types, we identified clear evidence of operational inefficiencies—especially during peak hours and at high-traffic locations like the airport.\n",
        "\n",
        "Our analysis showed that the majority of failed trips occurred due to either \"No Cars Available\" or \"Cancelled\" statuses, with these gaps peaking during morning and evening rush hours. The Airport pickup point consistently experienced a higher rate of trip failures compared to the City, indicating a significant imbalance in driver distribution. Additionally, the evening hours were especially underserved, contributing to unmet demand and lost revenue opportunities."
      ],
      "metadata": {
        "id": "Fjb1IsQkh3yE"
      }
    },
    {
      "cell_type": "markdown",
      "source": [
        "### ***Hurrah! You have successfully completed your EDA Capstone Project !!!***"
      ],
      "metadata": {
        "id": "gIfDvo9L0UH2"
      }
    }
  ]
}